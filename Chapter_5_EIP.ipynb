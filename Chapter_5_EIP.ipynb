{
  "nbformat": 4,
  "nbformat_minor": 0,
  "metadata": {
    "colab": {
      "name": "Chapter 5: EIP.ipynb",
      "version": "0.3.2",
      "provenance": [],
      "collapsed_sections": [],
      "toc_visible": true,
      "include_colab_link": true
    },
    "kernelspec": {
      "name": "python3",
      "display_name": "Python 3"
    }
  },
  "cells": [
    {
      "cell_type": "markdown",
      "metadata": {
        "id": "view-in-github",
        "colab_type": "text"
      },
      "source": [
        "<a href=\"https://colab.research.google.com/github/brainyvoyage/eip-notes/blob/master/Chapter_5_EIP.ipynb\" target=\"_parent\"><img src=\"https://colab.research.google.com/assets/colab-badge.svg\" alt=\"Open In Colab\"/></a>"
      ]
    },
    {
      "cell_type": "markdown",
      "metadata": {
        "id": "lAUonCkpuQz5",
        "colab_type": "text"
      },
      "source": [
        "# Python bit operators and function\n",
        "\n",
        "1.  `x << y`: Returns x bits shifted left by y places. Equivalent to mulitplying x by `2**y`\n",
        "2. `x >> y`: Returns x bits shifted right by x places. Equivalent to `x // 2**y`\n",
        "3. `x & y` : Bitwise and\n",
        "4. `x | y` : Bitwise or\n",
        "5. `x ^ y` : Exclusive or. Each bit of output is same as `x` if corresponding bit in `y` is 0\n",
        "\n",
        "## Hex sting"
      ]
    },
    {
      "cell_type": "code",
      "metadata": {
        "id": "in7uLfVHuJey",
        "colab_type": "code",
        "outputId": "918fc467-3efe-406f-c501-28ce93b82da5",
        "colab": {
          "base_uri": "https://localhost:8080/",
          "height": 34
        }
      },
      "source": [
        "f\"0x{int('11111111', 2):0x}\""
      ],
      "execution_count": 0,
      "outputs": [
        {
          "output_type": "execute_result",
          "data": {
            "text/plain": [
              "'0xff'"
            ]
          },
          "metadata": {
            "tags": []
          },
          "execution_count": 1
        }
      ]
    },
    {
      "cell_type": "markdown",
      "metadata": {
        "id": "33rm0OaFhmeQ",
        "colab_type": "text"
      },
      "source": [
        "\n",
        "## Highest bit set: \n",
        "The  number of the highest bit set is the highest power of 2 less than or equal to the input integer\n"
      ]
    },
    {
      "cell_type": "code",
      "metadata": {
        "id": "Sz6cBpibnogN",
        "colab_type": "code",
        "outputId": "2a6e4dc7-9c55-4f4e-a8aa-1de538a5b45e",
        "colab": {
          "base_uri": "https://localhost:8080/",
          "height": 34
        }
      },
      "source": [
        "import math\n",
        "x = 15\n",
        "highest_bit = math.floor(math.log(x, 2))\n",
        "print(f\"Highest bit {x}({bin(x)}) set = {highest_bit}\")"
      ],
      "execution_count": 24,
      "outputs": [
        {
          "output_type": "stream",
          "text": [
            "Highest bit 15(0b1111) set = 3\n"
          ],
          "name": "stdout"
        }
      ]
    },
    {
      "cell_type": "markdown",
      "metadata": {
        "id": "0Zx8xyB7nz7h",
        "colab_type": "text"
      },
      "source": [
        "## Count bits\n",
        "\n",
        "## Method 1\n",
        "> $x \\& 1 = 1$ iff lowest bit in x is set, 0 otherwise"
      ]
    },
    {
      "cell_type": "code",
      "metadata": {
        "id": "wGH-wJ32hgS8",
        "colab_type": "code",
        "outputId": "2c91a96c-77d9-458f-9935-5ea4ae00e7e1",
        "colab": {
          "base_uri": "https://localhost:8080/",
          "height": 34
        }
      },
      "source": [
        "def bit_len(x):\n",
        "  count = 0\n",
        "  length = 0\n",
        "  while x:\n",
        "    count += (x & 1)  # x & 1 = 1 iff lowest bit in x is set, 0 otherwise\n",
        "    length +=1\n",
        "    x >>= 1\n",
        "  return (count, length)\n",
        "\n",
        "x = 6\n",
        "count, length = bit_len(x)\n",
        "print(f\"{x}({bin(x)}) has {count} bit set and has {length} length\")"
      ],
      "execution_count": 25,
      "outputs": [
        {
          "output_type": "stream",
          "text": [
            "6(0b110) has 2 bit set and has 3 length\n"
          ],
          "name": "stdout"
        }
      ]
    },
    {
      "cell_type": "markdown",
      "metadata": {
        "id": "59Y3k5M0iDP5",
        "colab_type": "text"
      },
      "source": [
        "### Method 2\n",
        "\n",
        "$x \\&  (x - 1)$ drops the lowest set bit of x\n",
        "This method is faster than method above"
      ]
    },
    {
      "cell_type": "code",
      "metadata": {
        "id": "96i605ghiAdP",
        "colab_type": "code",
        "outputId": "cf6216bc-35dd-4dfc-a520-143ac2dd8ca3",
        "colab": {
          "base_uri": "https://localhost:8080/",
          "height": 69
        }
      },
      "source": [
        "def bit_count(x):\n",
        "  count = 0\n",
        "  while x:\n",
        "    x &= (x - 1)  # Drops the lowest set bit of x\n",
        "    count += 1\n",
        "  return count\n",
        "\n",
        "x = 56\n",
        "print(f\"X = {x}({bin(x)})\\nX - 1 = ({bin(x - 1)})\\nbit count = {bit_count(x)}\")\n",
        "# bit_count(56)"
      ],
      "execution_count": 4,
      "outputs": [
        {
          "output_type": "stream",
          "text": [
            "X = 56(0b111000)\n",
            "X - 1 = (0b110111)\n",
            "bit count = 3\n"
          ],
          "name": "stdout"
        }
      ]
    },
    {
      "cell_type": "markdown",
      "metadata": {
        "id": "SlRksxPdiLsE",
        "colab_type": "text"
      },
      "source": [
        "### LowerSet: \n",
        "To determine the bit number of the lowest bit set in an integer, in twos-complement notation i & -i zeroes all but the lowest set bit. The bitLen() proceedure then determines its position. Obviously, negative numbers return the same result as their opposite. In this version, an input of 0 returns -1, in effect an error condition.\n"
      ]
    },
    {
      "cell_type": "code",
      "metadata": {
        "id": "FBhhTUE6iKBh",
        "colab_type": "code",
        "outputId": "084b3a8f-1469-4574-8f7c-50c1c6b6c1fb",
        "colab": {
          "base_uri": "https://localhost:8080/",
          "height": 34
        }
      },
      "source": [
        "def lower_set(x):\n",
        "  low = x & -x\n",
        "  position = 0\n",
        "  while low:\n",
        "    low >>= 1\n",
        "    position += 1\n",
        "  return position\n",
        "\n",
        "lower_set(56)"
      ],
      "execution_count": 0,
      "outputs": [
        {
          "output_type": "execute_result",
          "data": {
            "text/plain": [
              "4"
            ]
          },
          "metadata": {
            "tags": []
          },
          "execution_count": 4
        }
      ]
    },
    {
      "cell_type": "markdown",
      "metadata": {
        "id": "7jNA4GDnijG-",
        "colab_type": "text"
      },
      "source": [
        "\n",
        "\n",
        "### testBit: \n",
        "returns a nonzero result, 2**offset, if the bit at 'offset' is one.\n",
        "\n"
      ]
    },
    {
      "cell_type": "code",
      "metadata": {
        "id": "vMITnZ0Eihx-",
        "colab_type": "code",
        "outputId": "d8078637-d580-456e-943e-8cbecb3099df",
        "colab": {
          "base_uri": "https://localhost:8080/",
          "height": 52
        }
      },
      "source": [
        "def test_bit(x: int, offset: int):\n",
        "  mask = 1 << offset\n",
        "  return x & mask\n",
        "\n",
        "print(test_bit(56, 3))\n",
        "print(bin(56))"
      ],
      "execution_count": 0,
      "outputs": [
        {
          "output_type": "stream",
          "text": [
            "8\n",
            "0b111000\n"
          ],
          "name": "stdout"
        }
      ]
    },
    {
      "cell_type": "markdown",
      "metadata": {
        "id": "8xNBbewgi9jo",
        "colab_type": "text"
      },
      "source": [
        "### setBit: \n",
        "Returns an integer with the bit at 'offset' set to 1."
      ]
    },
    {
      "cell_type": "code",
      "metadata": {
        "id": "p2kgbV5zirDv",
        "colab_type": "code",
        "colab": {}
      },
      "source": [
        "def set_bit(x: int, offset):\n",
        "  mask = 1 << offset\n",
        "  return x | mask\n"
      ],
      "execution_count": 0,
      "outputs": []
    },
    {
      "cell_type": "markdown",
      "metadata": {
        "id": "Ltl0Ex9SjPVl",
        "colab_type": "text"
      },
      "source": [
        "### clearBit: \n",
        "returns an integer with the bit at 'offset' cleared.\n",
        "\n"
      ]
    },
    {
      "cell_type": "code",
      "metadata": {
        "id": "pKwPDB2FjOC9",
        "colab_type": "code",
        "colab": {}
      },
      "source": [
        "def clear_bit(x: int, offset: int):\n",
        "  mask = ~(1 << offset)\n",
        "  return x & mask\n",
        "\n"
      ],
      "execution_count": 0,
      "outputs": []
    },
    {
      "cell_type": "markdown",
      "metadata": {
        "id": "M0tkCI66jWOi",
        "colab_type": "text"
      },
      "source": [
        "### toggleBit: \n",
        "Returns an integer with the bit at 'offset' inverted, 0 -> 1 and 1 -> 0.\n"
      ]
    },
    {
      "cell_type": "code",
      "metadata": {
        "id": "5FyrXHVQjU-j",
        "colab_type": "code",
        "colab": {}
      },
      "source": [
        "def toggle_bit(x: int, offset: int):\n",
        "  mask = 1 << offset\n",
        "  return x ^ mask\n"
      ],
      "execution_count": 0,
      "outputs": []
    },
    {
      "cell_type": "markdown",
      "metadata": {
        "id": "5yS4MVWxjc0c",
        "colab_type": "text"
      },
      "source": [
        "# Problems\n",
        "## Compute parity\n",
        "Parity = 1, if the nummber of 1s in the sequence is odd; otherwise 0"
      ]
    },
    {
      "cell_type": "code",
      "metadata": {
        "id": "yjoK_sVgjb-B",
        "colab_type": "code",
        "colab": {}
      },
      "source": [
        "def parity_of(x):\n",
        "  parity = 0\n",
        "  while x:\n",
        "    x &= (x - 1)  # Drops the lowest set bit of x\n",
        "    parity = ~parity\n",
        "  return -parity"
      ],
      "execution_count": 0,
      "outputs": []
    },
    {
      "cell_type": "markdown",
      "metadata": {
        "id": "XoNSdI8ruE7O",
        "colab_type": "text"
      },
      "source": [
        "## Swap bits"
      ]
    },
    {
      "cell_type": "code",
      "metadata": {
        "id": "l3YddH8PuM9d",
        "colab_type": "code",
        "colab": {
          "base_uri": "https://localhost:8080/",
          "height": 69
        },
        "outputId": "e5c2f2e8-4c4f-4d2e-dc3e-910b5a1edc18"
      },
      "source": [
        "# Swap is necessary only if the bits are different\n",
        "\n",
        "def swap_bits(num: int, bit_i: int, bit_j: int):\n",
        "  if (num >> bit_i & 1) != (num >> bit_j & 1):\n",
        "    bit_mask = (1 << bit_i) | (1 << bit_j)\n",
        "    return num ^ bit_mask\n",
        "\n",
        "\n",
        "x, i, j = 56, 1, 4\n",
        "swapped = swap_bits(x, i, j)\n",
        "print(f\"Original = {bin(x)}({x})\\nswapping {i} & {j} bits\")\n",
        "print(f\"{bin(swapped)} ({swapped})\")"
      ],
      "execution_count": 20,
      "outputs": [
        {
          "output_type": "stream",
          "text": [
            "Original = 0b111000(56)\n",
            "swapping 1 & 4 bits\n",
            "0b101010 (42)\n"
          ],
          "name": "stdout"
        }
      ]
    },
    {
      "cell_type": "markdown",
      "metadata": {
        "id": "6dsrgtutzi7F",
        "colab_type": "text"
      },
      "source": [
        "## Closest integer with same bit count\n",
        "Suppose we flip the bit at index $k_1$ and flip the bit at index $k_2, k_l > k_2$. Then the absolute value of the difference between the original integer and the new one is $2^{k_1} - 2^{k_2}$. To minimize this, \n",
        "1. we should make $k_1$ as small as possible and\n",
        "2. $k_2$ as close to $k_1$.\n",
        "\n",
        "\n",
        "Since we must preserve the weight, the bit at index kl has to be different from the bit in k2, otherwise the flips lead to an integer with different weight. This means the smallest kl can be is the rightmost bit that's different from the LSB, and k2 must be the very next bit. \n",
        "\n",
        "> **In summary, the correct approach is to swap the two rightmost consecutive bits that differ.**"
      ]
    },
    {
      "cell_type": "code",
      "metadata": {
        "id": "jUera3WOwLdk",
        "colab_type": "code",
        "colab": {
          "base_uri": "https://localhost:8080/",
          "height": 52
        },
        "outputId": "536d3a2b-2364-4ec2-d6b0-b6308f793a53"
      },
      "source": [
        "WORD_SIZE = 64\n",
        "\n",
        "def closest_num_with_same_bit(num: int):\n",
        "  for i in range(WORD_SIZE - 1):\n",
        "    if (num >> i & 1) != (num >> (i + 1) & 1):\n",
        "      num ^= (1 << i) | (1 << (i + 1))\n",
        "      return num\n",
        "x = 56\n",
        "y = closest_num_with_same_bit(x)\n",
        "print(f\"x = {x} ({bin(x)})\\ny = {y} ({bin(y)})\")"
      ],
      "execution_count": 24,
      "outputs": [
        {
          "output_type": "stream",
          "text": [
            "x = 56 (0b111000)\n",
            "y = 52 (0b110100)\n"
          ],
          "name": "stdout"
        }
      ]
    },
    {
      "cell_type": "markdown",
      "metadata": {
        "id": "iSAV7n5RIPsM",
        "colab_type": "text"
      },
      "source": [
        "## Compute $x + y$"
      ]
    },
    {
      "cell_type": "code",
      "metadata": {
        "id": "0p3k9qujIO1j",
        "colab_type": "code",
        "colab": {
          "base_uri": "https://localhost:8080/",
          "height": 34
        },
        "outputId": "983dc40f-058f-47c4-aa82-5a373df67de5"
      },
      "source": [
        "def bit_sum(num1: int, num2: int):\n",
        "  temp1, temp2, _sum, cin = num1, num2, 0, 0\n",
        "  k = 1 # To extract kth bit\n",
        "  while temp1 or temp2:\n",
        "    temp1k = num1 & k\n",
        "    temp2k = num2 & k\n",
        "    cout = (temp1k & temp2k) | (temp1k & cin) | (temp2k & cin)\n",
        "    _sum |= (temp1k ^ temp2k ^ cin)\n",
        "    k <<= 1\n",
        "    cin = cout << 1\n",
        "    temp1 >>=1\n",
        "    temp2 >>=1\n",
        "    #print(f\"temp1 = {temp1}, temp2 = {temp2}, temp1k = {temp1k},\" +\n",
        "    #  f\"temp2k = {temp2k}, cout = {cout}, k = {k}, _sum = {_sum} cin = {cin}\")\n",
        "  return _sum | cin\n",
        "\n",
        "bit_sum(56,7)"
      ],
      "execution_count": 6,
      "outputs": [
        {
          "output_type": "execute_result",
          "data": {
            "text/plain": [
              "63"
            ]
          },
          "metadata": {
            "tags": []
          },
          "execution_count": 6
        }
      ]
    },
    {
      "cell_type": "markdown",
      "metadata": {
        "id": "GBTRG4HfCh13",
        "colab_type": "text"
      },
      "source": [
        "## Compute $x \\times y$"
      ]
    },
    {
      "cell_type": "code",
      "metadata": {
        "id": "6fI-4uKFD6n1",
        "colab_type": "code",
        "colab": {
          "base_uri": "https://localhost:8080/",
          "height": 34
        },
        "outputId": "71bd626b-adb3-424c-da12-8b7bea38b8d4"
      },
      "source": [
        "def bit_mult(x: int, y: int):\n",
        "  _sum = 0\n",
        "  while x:\n",
        "    if x & 1:\n",
        "      _sum = bit_sum(_sum, y)\n",
        "    x >>= 1\n",
        "    y <<= 1\n",
        "  return _sum\n",
        "\n",
        "bit_mult(8, 7)"
      ],
      "execution_count": 7,
      "outputs": [
        {
          "output_type": "execute_result",
          "data": {
            "text/plain": [
              "56"
            ]
          },
          "metadata": {
            "tags": []
          },
          "execution_count": 7
        }
      ]
    },
    {
      "cell_type": "markdown",
      "metadata": {
        "id": "StBNIAU7jjqA",
        "colab_type": "text"
      },
      "source": [
        "\n",
        "## Compute $x/y$\n",
        "Given two positive integers `x` and `y` compute $x/y$ if the only operators yon can use are addition, substraction, and shifting\n",
        "\n",
        "1. We can compute the largest k such that $2^ky < x$, \n",
        "2. subtract $2^ky$ from x, and \n",
        "3. add $2^k$ to the quotient. \n",
        "\n",
        "For example, if $x = (1011)_2$ and $y = (10)_2$, then k = 2, since 2 * 22 < 11 and 2 * 23 > 11. We subtract $(1000)_2$ from $(1011)_2$ to get $(11)_2$, add $2^k = 22 = (100)_2$ to the quotient, and continue by updating x to $(11)_2$\n",
        "\n"
      ]
    },
    {
      "cell_type": "code",
      "metadata": {
        "id": "FHKkoMPbjiz9",
        "colab_type": "code",
        "colab": {
          "base_uri": "https://localhost:8080/",
          "height": 34
        },
        "outputId": "a1ce3130-8ddf-41b9-f1c1-554b3e3c94d5"
      },
      "source": [
        "def div(x: int, y: int):\n",
        "  quotient = 0\n",
        "  k = 32\n",
        "  two_powk_y = y << k\n",
        "  while x >= y:\n",
        "    while two_powk_y > x:   # find largest k \n",
        "      two_powk_y >>= 1\n",
        "      k -= 1\n",
        "      \n",
        "    quotient += 1 << k      #  adding 2^k * y to quotient\n",
        "    x -= two_powk_y         #  Substracting 2^k from x\n",
        "  return quotient\n",
        "\n",
        "div(56, 7)"
      ],
      "execution_count": 12,
      "outputs": [
        {
          "output_type": "execute_result",
          "data": {
            "text/plain": [
              "8"
            ]
          },
          "metadata": {
            "tags": []
          },
          "execution_count": 12
        }
      ]
    },
    {
      "cell_type": "markdown",
      "metadata": {
        "id": "bycaVuUB-U0s",
        "colab_type": "text"
      },
      "source": [
        "## Reverse digits\n"
      ]
    },
    {
      "cell_type": "code",
      "metadata": {
        "id": "fys-O6DsDbfP",
        "colab_type": "code",
        "colab": {
          "base_uri": "https://localhost:8080/",
          "height": 34
        },
        "outputId": "9a5afdf1-f871-4398-ba3f-3b9179b69ff1"
      },
      "source": [
        "def reverse_digits(num: int):\n",
        "  result = 0\n",
        "  x = abs(num)\n",
        "  while x:\n",
        "    result = result * 10 + x % 10\n",
        "    x //= 10\n",
        "  return result if num > 0 else -result\n",
        "\n",
        "reverse_digits(-312)\n"
      ],
      "execution_count": 22,
      "outputs": [
        {
          "output_type": "execute_result",
          "data": {
            "text/plain": [
              "-213"
            ]
          },
          "metadata": {
            "tags": []
          },
          "execution_count": 22
        }
      ]
    },
    {
      "cell_type": "markdown",
      "metadata": {
        "id": "ImZFIgHKug7V",
        "colab_type": "text"
      },
      "source": [
        "## Is Palindrome"
      ]
    },
    {
      "cell_type": "code",
      "metadata": {
        "id": "IXpaoa2Eul3l",
        "colab_type": "code",
        "colab": {}
      },
      "source": [
        "import math\n",
        "def is_palindrome(num: int):\n",
        "  num_digits = math.floor(math.log(num, 10)) + 1\n",
        "  msd_mask = math.pow(10, num_digits - 1)\n",
        "  \n",
        "  for _ in range(0, num_digits//2):\n",
        "    if num//msd_mask != num % 10:\n",
        "      return False\n",
        "    num %= msd_mask\n",
        "    num //= 10\n",
        "    msd_mask /= 100\n",
        "  return True\n",
        "\n",
        "assert is_palindrome(31213) == True\n",
        "assert is_palindrome(34213) == False\n",
        "assert is_palindrome(312213) == True"
      ],
      "execution_count": 0,
      "outputs": []
    },
    {
      "cell_type": "markdown",
      "metadata": {
        "id": "r_v0gglEjn8x",
        "colab_type": "text"
      },
      "source": [
        "## Convert Base\n",
        "Write a function that performs base conversion. Specifically, the input are\n",
        "1. an integer base $b_1$, \n",
        "2. a string $s$, representing an integer x in base $b_1$, and \n",
        "3. another integer base $b_2$\n",
        "\n",
        "Assume $2\\leq b_1, b_2 \\leq 16$\n",
        "\n"
      ]
    },
    {
      "cell_type": "code",
      "metadata": {
        "id": "5D3iHppmjqmp",
        "colab_type": "code",
        "colab": {}
      },
      "source": [
        ""
      ],
      "execution_count": 0,
      "outputs": []
    },
    {
      "cell_type": "markdown",
      "metadata": {
        "id": "a6tqG645jrnJ",
        "colab_type": "text"
      },
      "source": [
        "## Generate uniform random number\n",
        "Implement a random number generator that generates a random integer $i$ in $[a, b]$, given a random number generator that produces either 0 or 1 with equal probability.\n",
        "\n"
      ]
    },
    {
      "cell_type": "code",
      "metadata": {
        "id": "Ag09zrsEjt_i",
        "colab_type": "code",
        "colab": {}
      },
      "source": [
        ""
      ],
      "execution_count": 0,
      "outputs": []
    },
    {
      "cell_type": "markdown",
      "metadata": {
        "id": "tE_634Lbjuqk",
        "colab_type": "text"
      },
      "source": [
        "## The open Doors problem\n",
        "Five hundred closed doors along a corridor are numbered from 1 to 500. A person walks through the corridor and opens each door. Another person walks through the corridor and closes every alternate door. Continuing in this manner, the i-th person comes and toggles the position of every i-th door starting from door i. Which doors are open after the 500-th person has walked through?\n",
        "\n"
      ]
    },
    {
      "cell_type": "code",
      "metadata": {
        "id": "TQfLNz3DjwTS",
        "colab_type": "code",
        "colab": {}
      },
      "source": [
        ""
      ],
      "execution_count": 0,
      "outputs": []
    },
    {
      "cell_type": "markdown",
      "metadata": {
        "id": "7xcFInzhjxHX",
        "colab_type": "text"
      },
      "source": [
        "\n",
        "## Compute the greatest common divisior \n",
        "Design an efficient algorithm for computing the GCD of two numebrs without using multiplication, division, or the modulus operator\n"
      ]
    },
    {
      "cell_type": "code",
      "metadata": {
        "id": "3JCMUX85jxtY",
        "colab_type": "code",
        "colab": {}
      },
      "source": [
        ""
      ],
      "execution_count": 0,
      "outputs": []
    }
  ]
}
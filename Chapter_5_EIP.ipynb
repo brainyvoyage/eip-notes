{
  "nbformat": 4,
  "nbformat_minor": 0,
  "metadata": {
    "colab": {
      "name": "Chapter 5: EIP.ipynb",
      "version": "0.3.2",
      "provenance": [],
      "collapsed_sections": [],
      "include_colab_link": true
    },
    "kernelspec": {
      "name": "python3",
      "display_name": "Python 3"
    }
  },
  "cells": [
    {
      "cell_type": "markdown",
      "metadata": {
        "id": "view-in-github",
        "colab_type": "text"
      },
      "source": [
        "<a href=\"https://colab.research.google.com/github/brainyvoyage/eip-notes/blob/master/Chapter_5_EIP.ipynb\" target=\"_parent\"><img src=\"https://colab.research.google.com/assets/colab-badge.svg\" alt=\"Open In Colab\"/></a>"
      ]
    },
    {
      "cell_type": "markdown",
      "metadata": {
        "id": "lAUonCkpuQz5",
        "colab_type": "text"
      },
      "source": [
        "# Python bit operators and function\n",
        "\n",
        "1.  `x << y`: Returns x bits shifted left by y places. Equivalent to mulitplying x by `2**y`\n",
        "2. `x >> y`: Returns x bits shifted right by x places. Equivalent to `x // 2**y`\n",
        "3. `x & y` : Bitwise and\n",
        "4. `x | y` : Bitwise or\n",
        "5. `x ^ y` : Exclusive or. Each bit of output is same as `x` if corresponding bit in `y` is 0\n",
        "\n",
        "## Hex sting"
      ]
    },
    {
      "cell_type": "code",
      "metadata": {
        "id": "in7uLfVHuJey",
        "colab_type": "code",
        "outputId": "918fc467-3efe-406f-c501-28ce93b82da5",
        "colab": {
          "base_uri": "https://localhost:8080/",
          "height": 34
        }
      },
      "source": [
        "f\"0x{int('11111111', 2):0x}\""
      ],
      "execution_count": 0,
      "outputs": [
        {
          "output_type": "execute_result",
          "data": {
            "text/plain": [
              "'0xff'"
            ]
          },
          "metadata": {
            "tags": []
          },
          "execution_count": 1
        }
      ]
    },
    {
      "cell_type": "markdown",
      "metadata": {
        "id": "33rm0OaFhmeQ",
        "colab_type": "text"
      },
      "source": [
        "\n",
        "## Highest bit set: \n",
        "The  number of the highest bit set is the highest power of 2 less than or equal to the input integer\n"
      ]
    },
    {
      "cell_type": "code",
      "metadata": {
        "id": "Sz6cBpibnogN",
        "colab_type": "code",
        "outputId": "2ec98f10-8d64-4255-d7c1-87f010853afb",
        "colab": {
          "base_uri": "https://localhost:8080/",
          "height": 34
        }
      },
      "source": [
        "import math\n",
        "x = 4\n",
        "math.floor(math.log(x, 2))"
      ],
      "execution_count": 0,
      "outputs": [
        {
          "output_type": "execute_result",
          "data": {
            "text/plain": [
              "2"
            ]
          },
          "metadata": {
            "tags": []
          },
          "execution_count": 14
        }
      ]
    },
    {
      "cell_type": "markdown",
      "metadata": {
        "id": "0Zx8xyB7nz7h",
        "colab_type": "text"
      },
      "source": [
        "## Count bits\n",
        "\n",
        "## Method 1"
      ]
    },
    {
      "cell_type": "code",
      "metadata": {
        "id": "wGH-wJ32hgS8",
        "colab_type": "code",
        "outputId": "9f38e6d7-9e1f-4e8d-b09e-8a60a2acdb86",
        "colab": {
          "base_uri": "https://localhost:8080/",
          "height": 34
        }
      },
      "source": [
        "def bit_len(x):\n",
        "  count = 0\n",
        "  length = 0\n",
        "  while x:\n",
        "    count += (x & 1)\n",
        "    length +=1\n",
        "    x >>= 1\n",
        "  return (count, length)\n",
        "\n",
        "bit_len(56)"
      ],
      "execution_count": 0,
      "outputs": [
        {
          "output_type": "execute_result",
          "data": {
            "text/plain": [
              "(3, 6)"
            ]
          },
          "metadata": {
            "tags": []
          },
          "execution_count": 2
        }
      ]
    },
    {
      "cell_type": "markdown",
      "metadata": {
        "id": "59Y3k5M0iDP5",
        "colab_type": "text"
      },
      "source": [
        "### Method 2"
      ]
    },
    {
      "cell_type": "code",
      "metadata": {
        "id": "96i605ghiAdP",
        "colab_type": "code",
        "outputId": "489b9a1a-98ec-4bee-9834-3fc8a0f594ff",
        "colab": {
          "base_uri": "https://localhost:8080/",
          "height": 34
        }
      },
      "source": [
        "\n",
        "def bit_count(x):\n",
        "  count = 0\n",
        "  while x:\n",
        "    x &= (x - 1)  # Drops the lowest set bit of x\n",
        "    count += 1\n",
        "  return count\n",
        "\n",
        "bit_count(56)"
      ],
      "execution_count": 0,
      "outputs": [
        {
          "output_type": "execute_result",
          "data": {
            "text/plain": [
              "3"
            ]
          },
          "metadata": {
            "tags": []
          },
          "execution_count": 3
        }
      ]
    },
    {
      "cell_type": "code",
      "metadata": {
        "id": "Me9KXf3vlmqR",
        "colab_type": "code",
        "outputId": "d1591a97-a012-4453-ac32-997967b4b31e",
        "colab": {
          "base_uri": "https://localhost:8080/",
          "height": 124
        }
      },
      "source": [
        "from google.colab import drive\n",
        "drive.mount('/content/drive')"
      ],
      "execution_count": 0,
      "outputs": [
        {
          "output_type": "stream",
          "text": [
            "Go to this URL in a browser: https://accounts.google.com/o/oauth2/auth?client_id=947318989803-6bn6qk8qdgf4n4g3pfee6491hc0brc4i.apps.googleusercontent.com&redirect_uri=urn%3Aietf%3Awg%3Aoauth%3A2.0%3Aoob&scope=email%20https%3A%2F%2Fwww.googleapis.com%2Fauth%2Fdocs.test%20https%3A%2F%2Fwww.googleapis.com%2Fauth%2Fdrive%20https%3A%2F%2Fwww.googleapis.com%2Fauth%2Fdrive.photos.readonly%20https%3A%2F%2Fwww.googleapis.com%2Fauth%2Fpeopleapi.readonly&response_type=code\n",
            "\n",
            "Enter your authorization code:\n",
            "··········\n",
            "Mounted at /content/drive\n"
          ],
          "name": "stdout"
        }
      ]
    },
    {
      "cell_type": "markdown",
      "metadata": {
        "id": "SlRksxPdiLsE",
        "colab_type": "text"
      },
      "source": [
        "### LowerSet: \n",
        "To determine the bit number of the lowest bit set in an integer, in twos-complement notation i & -i zeroes all but the lowest set bit. The bitLen() proceedure then determines its position. Obviously, negative numbers return the same result as their opposite. In this version, an input of 0 returns -1, in effect an error condition.\n"
      ]
    },
    {
      "cell_type": "code",
      "metadata": {
        "id": "FBhhTUE6iKBh",
        "colab_type": "code",
        "outputId": "084b3a8f-1469-4574-8f7c-50c1c6b6c1fb",
        "colab": {
          "base_uri": "https://localhost:8080/",
          "height": 34
        }
      },
      "source": [
        "def lower_set(x):\n",
        "  low = x & -x\n",
        "  position = 0\n",
        "  while low:\n",
        "    low >>= 1\n",
        "    position += 1\n",
        "  return position\n",
        "\n",
        "lower_set(56)"
      ],
      "execution_count": 0,
      "outputs": [
        {
          "output_type": "execute_result",
          "data": {
            "text/plain": [
              "4"
            ]
          },
          "metadata": {
            "tags": []
          },
          "execution_count": 4
        }
      ]
    },
    {
      "cell_type": "markdown",
      "metadata": {
        "id": "7jNA4GDnijG-",
        "colab_type": "text"
      },
      "source": [
        "\n",
        "\n",
        "### testBit: \n",
        "returns a nonzero result, 2**offset, if the bit at 'offset' is one.\n",
        "\n"
      ]
    },
    {
      "cell_type": "code",
      "metadata": {
        "id": "vMITnZ0Eihx-",
        "colab_type": "code",
        "outputId": "d8078637-d580-456e-943e-8cbecb3099df",
        "colab": {
          "base_uri": "https://localhost:8080/",
          "height": 52
        }
      },
      "source": [
        "def test_bit(x: int, offset: int):\n",
        "  mask = 1 << offset\n",
        "  return x & mask\n",
        "\n",
        "print(test_bit(56, 3))\n",
        "print(bin(56))"
      ],
      "execution_count": 0,
      "outputs": [
        {
          "output_type": "stream",
          "text": [
            "8\n",
            "0b111000\n"
          ],
          "name": "stdout"
        }
      ]
    },
    {
      "cell_type": "markdown",
      "metadata": {
        "id": "8xNBbewgi9jo",
        "colab_type": "text"
      },
      "source": [
        "### setBit: \n",
        "Returns an integer with the bit at 'offset' set to 1."
      ]
    },
    {
      "cell_type": "code",
      "metadata": {
        "id": "p2kgbV5zirDv",
        "colab_type": "code",
        "colab": {}
      },
      "source": [
        "def set_bit(x: int, offset):\n",
        "  mask = 1 << offset\n",
        "  return x | mask\n"
      ],
      "execution_count": 0,
      "outputs": []
    },
    {
      "cell_type": "markdown",
      "metadata": {
        "id": "Ltl0Ex9SjPVl",
        "colab_type": "text"
      },
      "source": [
        "### clearBit: \n",
        "returns an integer with the bit at 'offset' cleared.\n",
        "\n"
      ]
    },
    {
      "cell_type": "code",
      "metadata": {
        "id": "pKwPDB2FjOC9",
        "colab_type": "code",
        "colab": {}
      },
      "source": [
        "def clear_bit(x: int, offset: int):\n",
        "  mask = ~(1 << offset)\n",
        "  return x & mask\n",
        "\n"
      ],
      "execution_count": 0,
      "outputs": []
    },
    {
      "cell_type": "markdown",
      "metadata": {
        "id": "M0tkCI66jWOi",
        "colab_type": "text"
      },
      "source": [
        "### toggleBit: \n",
        "Returns an integer with the bit at 'offset' inverted, 0 -> 1 and 1 -> 0.\n"
      ]
    },
    {
      "cell_type": "code",
      "metadata": {
        "id": "5FyrXHVQjU-j",
        "colab_type": "code",
        "colab": {}
      },
      "source": [
        "def toggle_bit(x: int, offset: int):\n",
        "  mask = 1 << offset\n",
        "  return x ^ mask\n"
      ],
      "execution_count": 0,
      "outputs": []
    },
    {
      "cell_type": "markdown",
      "metadata": {
        "id": "5yS4MVWxjc0c",
        "colab_type": "text"
      },
      "source": [
        "# Problems\n",
        "## Compute parity\n",
        "Parity = 1, if the nummber of 1s in the sequence is odd; otherwise 0"
      ]
    },
    {
      "cell_type": "code",
      "metadata": {
        "id": "yjoK_sVgjb-B",
        "colab_type": "code",
        "colab": {}
      },
      "source": [
        "def parity_of(x):\n",
        "  parity = 0\n",
        "  while x:\n",
        "    x &= (x - 1)  # Drops the lowest set bit of x\n",
        "    parity = ~parity\n",
        "  return -parity"
      ],
      "execution_count": 0,
      "outputs": []
    },
    {
      "cell_type": "markdown",
      "metadata": {
        "id": "StBNIAU7jjqA",
        "colab_type": "text"
      },
      "source": [
        "\n",
        "## Compute $x/y$\n",
        "Given two positive integers `x` and `y` compute $x/y$ if the only operators yon can use are addition, substraction, and shifting\n",
        "\n"
      ]
    },
    {
      "cell_type": "code",
      "metadata": {
        "id": "FHKkoMPbjiz9",
        "colab_type": "code",
        "colab": {}
      },
      "source": [
        ""
      ],
      "execution_count": 0,
      "outputs": []
    },
    {
      "cell_type": "markdown",
      "metadata": {
        "id": "r_v0gglEjn8x",
        "colab_type": "text"
      },
      "source": [
        "## Conver Base\n",
        "Write a function that performs base conversion. Specifically, the input are\n",
        "1. an integer base $b_1$, \n",
        "2. a string $s$, representing an integer x in base $b_1$, and \n",
        "3. another integer base $b_2$\n",
        "\n",
        "Assume $2\\leq b_1, b_2 \\leq 16$\n",
        "\n"
      ]
    },
    {
      "cell_type": "code",
      "metadata": {
        "id": "5D3iHppmjqmp",
        "colab_type": "code",
        "colab": {}
      },
      "source": [
        ""
      ],
      "execution_count": 0,
      "outputs": []
    },
    {
      "cell_type": "markdown",
      "metadata": {
        "id": "a6tqG645jrnJ",
        "colab_type": "text"
      },
      "source": [
        "## Generate uniform random number\n",
        "Implement a random number generator that generates a random integer $i$ in $[a, b]$, given a random number generator that produces either 0 or 1 with equal probability.\n",
        "\n"
      ]
    },
    {
      "cell_type": "code",
      "metadata": {
        "id": "Ag09zrsEjt_i",
        "colab_type": "code",
        "colab": {}
      },
      "source": [
        ""
      ],
      "execution_count": 0,
      "outputs": []
    },
    {
      "cell_type": "markdown",
      "metadata": {
        "id": "tE_634Lbjuqk",
        "colab_type": "text"
      },
      "source": [
        "## The open Doors problem\n",
        "Five hundred closed doors along a corridor are numbered from 1 to 500. A person walks through the corridor and opens each door. Another person walks through the corridor and closes every alternate door. Continuing in this manner, the i-th person comes and toggles the position of every i-th door starting from door i. Which doors are open after the 500-th person has walked through?\n",
        "\n"
      ]
    },
    {
      "cell_type": "code",
      "metadata": {
        "id": "TQfLNz3DjwTS",
        "colab_type": "code",
        "colab": {}
      },
      "source": [
        ""
      ],
      "execution_count": 0,
      "outputs": []
    },
    {
      "cell_type": "markdown",
      "metadata": {
        "id": "7xcFInzhjxHX",
        "colab_type": "text"
      },
      "source": [
        "\n",
        "## Compute the greatest common divisior \n",
        "Design an efficient algorithm for computing the GCD of two numebrs without using multiplication, division, or the modulus operator\n"
      ]
    },
    {
      "cell_type": "code",
      "metadata": {
        "id": "3JCMUX85jxtY",
        "colab_type": "code",
        "colab": {}
      },
      "source": [
        ""
      ],
      "execution_count": 0,
      "outputs": []
    }
  ]
}